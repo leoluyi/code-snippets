{
 "cells": [
  {
   "cell_type": "markdown",
   "metadata": {},
   "source": [
    "# Logistic Neural Network\n",
    "\n",
    "- https://iamtrask.github.io/2015/07/12/basic-python-network/\n",
    "- https://www.youtube.com/watch?v=q555kfIFUCM\n",
    "- http://nbviewer.jupyter.org/github/llSourcell/how_to_do_math_for_deep_learning/blob/master/demo.ipynb"
   ]
  },
  {
   "cell_type": "code",
   "execution_count": 79,
   "metadata": {
    "collapsed": true
   },
   "outputs": [],
   "source": [
    "import numpy as np\n",
    "import pandas as pd\n",
    "from matplotlib import pyplot as plt\n",
    "from pprint import pprint\n",
    "\n",
    "from IPython.display import Image\n",
    "%matplotlib inline"
   ]
  },
  {
   "cell_type": "code",
   "execution_count": 38,
   "metadata": {},
   "outputs": [
    {
     "data": {
      "text/html": [
       "<div>\n",
       "<style>\n",
       "    .dataframe thead tr:only-child th {\n",
       "        text-align: right;\n",
       "    }\n",
       "\n",
       "    .dataframe thead th {\n",
       "        text-align: left;\n",
       "    }\n",
       "\n",
       "    .dataframe tbody tr th {\n",
       "        vertical-align: top;\n",
       "    }\n",
       "</style>\n",
       "<table border=\"1\" class=\"dataframe\">\n",
       "  <thead>\n",
       "    <tr style=\"text-align: right;\">\n",
       "      <th></th>\n",
       "      <th>x1</th>\n",
       "      <th>x2</th>\n",
       "      <th>x3</th>\n",
       "      <th>y</th>\n",
       "    </tr>\n",
       "  </thead>\n",
       "  <tbody>\n",
       "    <tr>\n",
       "      <th>0</th>\n",
       "      <td>0</td>\n",
       "      <td>0</td>\n",
       "      <td>1</td>\n",
       "      <td>0</td>\n",
       "    </tr>\n",
       "    <tr>\n",
       "      <th>1</th>\n",
       "      <td>0</td>\n",
       "      <td>1</td>\n",
       "      <td>1</td>\n",
       "      <td>1</td>\n",
       "    </tr>\n",
       "    <tr>\n",
       "      <th>2</th>\n",
       "      <td>1</td>\n",
       "      <td>0</td>\n",
       "      <td>1</td>\n",
       "      <td>1</td>\n",
       "    </tr>\n",
       "    <tr>\n",
       "      <th>3</th>\n",
       "      <td>1</td>\n",
       "      <td>1</td>\n",
       "      <td>1</td>\n",
       "      <td>0</td>\n",
       "    </tr>\n",
       "  </tbody>\n",
       "</table>\n",
       "</div>"
      ],
      "text/plain": [
       "   x1  x2  x3  y\n",
       "0   0   0   1  0\n",
       "1   0   1   1  1\n",
       "2   1   0   1  1\n",
       "3   1   1   1  0"
      ]
     },
     "execution_count": 38,
     "metadata": {},
     "output_type": "execute_result"
    }
   ],
   "source": [
    "# features\n",
    "X = np.array([[0,0,1],\n",
    "              [0,1,1],\n",
    "              [1,0,1],\n",
    "              [1,1,1]])\n",
    "# output dataset\n",
    "y = np.array([[0,1,1,0]]).T\n",
    "\n",
    "pd.DataFrame(np.concatenate((X, y), axis=1),\n",
    "             columns=['x1', 'x2', 'x3', 'y'])"
   ]
  },
  {
   "cell_type": "markdown",
   "metadata": {},
   "source": [
    "## Activation function: Sigmoid"
   ]
  },
  {
   "cell_type": "code",
   "execution_count": 178,
   "metadata": {},
   "outputs": [
    {
     "data": {
      "image/png": "[encoded data removed]",
      "text/plain": [
       "<matplotlib.figure.Figure at 0x11759ff98>"
      ]
     },
     "metadata": {},
     "output_type": "display_data"
    }
   ],
   "source": [
    "# nonlinear: sigmoid function\n",
    "def sigmoid(x,deriv=False):\n",
    "    if deriv:\n",
    "        return x * (1-x)\n",
    "    \n",
    "    return 1 / (1 + np.exp(-x))\n",
    "\n",
    "\n",
    "_x = np.linspace(-6, 6, 30)\n",
    "\n",
    "fig, ax = plt.subplots()\n",
    "ax.plot(_x, sigmoid(_x))\n",
    "ax.set_xticks(np.linspace(-6, 6, 9))\n",
    "ax.set_yticks(np.linspace(0, 1, 5))\n",
    "ax.grid()\n",
    "plt.show()"
   ]
  },
  {
   "cell_type": "markdown",
   "metadata": {},
   "source": [
    "## Neural Network Structure"
   ]
  },
  {
   "cell_type": "markdown",
   "metadata": {},
   "source": [
    "```\n",
    "[None, 3]\n",
    "[3, 4]\n",
    "[4, 1]\n",
    "```\n",
    "\n",
    "![](img/nn-layers.png)"
   ]
  },
  {
   "cell_type": "markdown",
   "metadata": {},
   "source": [
    "### Weights"
   ]
  },
  {
   "cell_type": "code",
   "execution_count": 153,
   "metadata": {},
   "outputs": [
    {
     "name": "stdout",
     "output_type": "stream",
     "text": [
      "W0:\n",
      " [[-0.16595599  0.44064899 -0.99977125 -0.39533485]\n",
      " [-0.70648822 -0.81532281 -0.62747958 -0.30887855]\n",
      " [-0.20646505  0.07763347 -0.16161097  0.370439  ]]\n",
      "W1:\n",
      " [[-0.5910955 ]\n",
      " [ 0.75623487]\n",
      " [-0.94522481]\n",
      " [ 0.34093502]]\n"
     ]
    }
   ],
   "source": [
    "# seed random numbers to make calculation deterministic (just a good practice)\n",
    "np.random.seed(1)\n",
    "\n",
    "# initialize weights randomly with mean 0\n",
    "W0 = 2*np.random.random((3, 4)) - 1 # Convert 3D -> 4D\n",
    "W1 = 2*np.random.random((4, 1)) - 1 # Convert 4D -> 1D\n",
    "\n",
    "print('W0:\\n', W0)\n",
    "print('W1:\\n', W1)"
   ]
  },
  {
   "cell_type": "markdown",
   "metadata": {},
   "source": [
    "### Layrers"
   ]
  },
  {
   "cell_type": "code",
   "execution_count": 149,
   "metadata": {},
   "outputs": [
    {
     "name": "stdout",
     "output_type": "stream",
     "text": [
      "l1 before sigmoid:\n",
      " [[-0.20646505  0.07763347 -0.16161097  0.370439  ]\n",
      " [-0.91295327 -0.73768934 -0.78909055  0.06156045]]\n",
      "l1:\n",
      " [[ 0.44856632  0.51939863  0.45968497  0.59156505]\n",
      " [ 0.28639589  0.32350963  0.31236398  0.51538526]]\n"
     ]
    }
   ],
   "source": [
    "print('l1 before sigmoid:\\n', np.dot(X[:2], W0))\n",
    "l1 = sigmoid(np.dot(X[:2], W0)) # only input 2 samples\n",
    "print('l1:\\n', l1)"
   ]
  },
  {
   "cell_type": "code",
   "execution_count": 142,
   "metadata": {},
   "outputs": [
    {
     "name": "stdout",
     "output_type": "stream",
     "text": [
      "l2:\n",
      " [[ 0.47372957]\n",
      " [ 0.48895696]]\n"
     ]
    }
   ],
   "source": [
    "l2 = sigmoid(np.dot(l1, W1))\n",
    "print('l2:\\n', l2)"
   ]
  },
  {
   "cell_type": "code",
   "execution_count": 143,
   "metadata": {},
   "outputs": [
    {
     "name": "stdout",
     "output_type": "stream",
     "text": [
      "loss: 0.492386307521\n"
     ]
    }
   ],
   "source": [
    "# Loss function: L1 Loss\n",
    "loss = np.mean(np.abs(l2 - y[:2]))\n",
    "print('loss:', loss)"
   ]
  },
  {
   "cell_type": "code",
   "execution_count": 171,
   "metadata": {},
   "outputs": [
    {
     "name": "stdout",
     "output_type": "stream",
     "text": [
      "l2_delta:\n",
      " [[  3.11259832e-06]\n",
      " [  1.93351465e-06]\n",
      " [  3.77817210e-06]\n",
      " [  2.80446398e-06]]\n",
      "l1_error:\n",
      " [[  1.09027101e-05   2.00862998e-05   4.61832707e-06   1.59366338e-05]\n",
      " [  6.77265342e-06   1.24774066e-05   2.86885815e-06   9.89967604e-06]\n",
      " [  1.32340607e-05   2.43813977e-05   5.60587416e-06   1.93443995e-05]\n",
      " [  9.82338693e-06   1.80978393e-05   4.16113181e-06   1.43589731e-05]]\n",
      "l1_delta:\n",
      " [[  8.16707667e-07   1.14792755e-06   2.35344363e-07   8.92783461e-07]\n",
      " [  4.75373741e-07   5.98901604e-07   7.32580290e-08   5.78764092e-07]\n",
      " [  9.43077890e-07   8.01869806e-07   2.86367557e-07   1.34191927e-06]\n",
      " [  7.36746822e-07   4.63541029e-07   1.06630469e-07   1.01848260e-06]]\n"
     ]
    }
   ],
   "source": [
    "# Backpropagation\n",
    "lr = 0.3 # learning rate\n",
    "\n",
    "l2_delta = loss * sigmoid(l2, deriv=True) * lr; print('l2_delta:\\n', l2_delta)\n",
    "l1_error = l2_delta.dot(W1.T); print('l1_error:\\n', l1_error) # chain rule\n",
    "l1_delta = l1_error * sigmoid(l1,deriv=True) * lr; print('l1_delta:\\n', l1_delta)\n",
    "\n",
    "# Adjust weights\n",
    "# W1 += l1.T.dot(l2_delta)\n",
    "# W0 += l0.T.dot(l1_delta)"
   ]
  },
  {
   "cell_type": "markdown",
   "metadata": {},
   "source": [
    "![](img/backpropagation-1.png)\n",
    "![](img/backpropagation-2.png)"
   ]
  },
  {
   "cell_type": "markdown",
   "metadata": {},
   "source": [
    "## Training"
   ]
  },
  {
   "cell_type": "code",
   "execution_count": 191,
   "metadata": {},
   "outputs": [
    {
     "name": "stdout",
     "output_type": "stream",
     "text": [
      "(Epoch 0)\tloss: 0.5006054423118955\n",
      "(Epoch 10000)\tloss: 0.013951852623351479\n",
      "(Epoch 20000)\tloss: 0.0092425444809016\n",
      "(Epoch 30000)\tloss: 0.00734412743623565\n",
      "(Epoch 40000)\tloss: 0.006258921740070842\n",
      "(Epoch 50000)\tloss: 0.005536885881687133\n",
      "(Epoch 60000)\tloss: 0.005013177434100024\n",
      "(Epoch 70000)\tloss: 0.004611463806697075\n",
      "(Epoch 80000)\tloss: 0.004290983084572851\n",
      "(Epoch 90000)\tloss: 0.004027754188276536\n",
      "(Epoch 100000)\tloss: 0.0038066385368049505\n",
      "(Epoch 110000)\tloss: 0.003617552358033865\n",
      "(Epoch 120000)\tloss: 0.0034534883485299707\n",
      "(Epoch 130000)\tloss: 0.0033094072599722385\n",
      "(Epoch 140000)\tloss: 0.003181581008301093\n",
      "(Epoch 150000)\tloss: 0.0030671850312516446\n",
      "(Epoch 160000)\tloss: 0.0029640353992494194\n",
      "(Epoch 170000)\tloss: 0.002870413651468004\n",
      "(Epoch 180000)\tloss: 0.0027849467608739675\n",
      "(Epoch 190000)\tloss: 0.002706522845695906\n"
     ]
    }
   ],
   "source": [
    "N_EPOCHS = 200000\n",
    "lr = 0.6\n",
    "\n",
    "# initialize weights randomly with mean 0\n",
    "W0 = 2*np.random.random((3, 4)) - 1 # Convert 3D -> 4D\n",
    "W1 = 2*np.random.random((4, 1)) - 1 # Convert 4D -> 1D\n",
    "\n",
    "for i in range(N_EPOCHS):\n",
    "\n",
    "    # Forward propagation --------\n",
    "    \n",
    "    # First Layer of the Network, specified by the input data\n",
    "    l0 = X\n",
    "    # Second Layer of the Network, otherwise known as the hidden layer\n",
    "    l1 = sigmoid(np.dot(l0, W0))\n",
    "    # Output layer\n",
    "    l2 = sigmoid(np.dot(l1, W1))\n",
    "\n",
    "    # loss function\n",
    "    l2_errror = y - l2\n",
    "    loss = np.mean(np.abs(l2 - y))\n",
    "    if (i % 10000) == 0:\n",
    "        print(f'(Epoch {i})\\tloss: {loss}')\n",
    "#         print(np.concatenate((l2, y), axis=1))\n",
    "\n",
    "    # Backward propagation --------\n",
    "    l2_delta = l2_errror * sigmoid(l2, deriv=True) * lr\n",
    "    l1_error = l2_delta.dot(W1.T)\n",
    "    l1_delta = l1_error * sigmoid(l1, deriv=True) * lr\n",
    "\n",
    "    # update weights\n",
    "    W1 += l1.T.dot(l2_delta)\n",
    "    W0 += l0.T.dot(l1_delta)"
   ]
  },
  {
   "cell_type": "code",
   "execution_count": null,
   "metadata": {
    "collapsed": true
   },
   "outputs": [],
   "source": []
  }
 ],
 "metadata": {
  "kernelspec": {
   "display_name": "Python 3",
   "language": "python",
   "name": "python3"
  },
  "language_info": {
   "codemirror_mode": {
    "name": "ipython",
    "version": 3
   },
   "file_extension": ".py",
   "mimetype": "text/x-python",
   "name": "python",
   "nbconvert_exporter": "python",
   "pygments_lexer": "ipython3",
   "version": "3.6.2"
  }
 },
 "nbformat": 4,
 "nbformat_minor": 2
}
