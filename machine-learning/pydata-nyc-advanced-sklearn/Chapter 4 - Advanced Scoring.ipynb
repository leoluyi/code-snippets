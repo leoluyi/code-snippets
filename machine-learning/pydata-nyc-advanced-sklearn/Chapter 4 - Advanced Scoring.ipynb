{
 "metadata": {
  "name": ""
 },
 "nbformat": 3,
 "nbformat_minor": 0,
 "worksheets": [
  {
   "cells": [
    {
     "cell_type": "code",
     "collapsed": false,
     "input": [
      "%matplotlib inline\n",
      "import matplotlib.pyplot as plt\n",
      "import numpy as np\n",
      "\n",
      "from sklearn.datasets import load_digits\n",
      "from sklearn.cross_validation import train_test_split\n",
      "np.set_printoptions(precision=2)\n",
      "\n",
      "digits = load_digits()\n",
      "X, y = digits.data, digits.target == 3\n",
      "X_train, X_test, y_train, y_test = train_test_split(X, y)"
     ],
     "language": "python",
     "metadata": {},
     "outputs": [],
     "prompt_number": 1
    },
    {
     "cell_type": "code",
     "collapsed": false,
     "input": [
      "from sklearn.grid_search import GridSearchCV\n",
      "from sklearn.svm import SVC\n",
      "\n",
      "param_grid = {'C': 10. ** np.arange(-3, 3), 'gamma': 10. ** np.arange(-3, 3)}\n",
      "grid = GridSearchCV(SVC(), param_grid=param_grid)\n",
      "grid.fit(X_train, y_train)\n",
      "print(grid.best_params_)\n",
      "print(grid.score(X_test, y_test))"
     ],
     "language": "python",
     "metadata": {},
     "outputs": [
      {
       "output_type": "stream",
       "stream": "stdout",
       "text": [
        "{'C': 10.0, 'gamma': 0.001}\n",
        "0.997777777778\n"
       ]
      }
     ],
     "prompt_number": 2
    },
    {
     "cell_type": "code",
     "collapsed": false,
     "input": [
      "from sklearn.cross_validation import cross_val_score\n",
      "cross_val_score(SVC(), X_train, y_train)"
     ],
     "language": "python",
     "metadata": {},
     "outputs": [
      {
       "metadata": {},
       "output_type": "pyout",
       "prompt_number": 3,
       "text": [
        "array([ 0.89,  0.89,  0.89])"
       ]
      }
     ],
     "prompt_number": 3
    },
    {
     "cell_type": "code",
     "collapsed": false,
     "input": [
      "from sklearn.dummy import DummyClassifier\n",
      "cross_val_score(DummyClassifier(\"most_frequent\"), X_train, y_train)"
     ],
     "language": "python",
     "metadata": {},
     "outputs": [
      {
       "metadata": {},
       "output_type": "pyout",
       "prompt_number": 4,
       "text": [
        "array([ 0.89,  0.89,  0.89])"
       ]
      }
     ],
     "prompt_number": 4
    },
    {
     "cell_type": "code",
     "collapsed": false,
     "input": [
      "from sklearn.metrics import roc_curve, roc_auc_score\n",
      "\n",
      "for gamma in [.01, .1, 1]:\n",
      "    plt.xlabel(\"FPR\")\n",
      "    plt.ylabel(\"TPR\")\n",
      "    svm = SVC(gamma=gamma).fit(X_train, y_train)\n",
      "    decision_function = svm.decision_function(X_test)\n",
      "    fpr, tpr, _ = roc_curve(y_test, decision_function)\n",
      "    acc = svm.score(X_test, y_test)\n",
      "    auc = roc_auc_score(y_test, svm.decision_function(X_test))\n",
      "    plt.plot(fpr, tpr, label=\"acc:%.2f auc:%.2f\" % (acc, auc))\n",
      "    print()\n",
      "plt.legend(loc=\"best\")"
     ],
     "language": "python",
     "metadata": {},
     "outputs": [
      {
       "output_type": "stream",
       "stream": "stdout",
       "text": [
        "()\n",
        "()"
       ]
      },
      {
       "output_type": "stream",
       "stream": "stdout",
       "text": [
        "\n",
        "()"
       ]
      },
      {
       "output_type": "stream",
       "stream": "stdout",
       "text": [
        "\n"
       ]
      },
      {
       "metadata": {},
       "output_type": "pyout",
       "prompt_number": 5,
       "text": [
        "<matplotlib.legend.Legend at 0x7f814677f550>"
       ]
      },
      {
       "metadata": {},
       "output_type": "display_data",
       "png": "[encoded data removed]",
       "text": [
        "<matplotlib.figure.Figure at 0x7f814677f510>"
       ]
      }
     ],
     "prompt_number": 5
    },
    {
     "cell_type": "code",
     "collapsed": false,
     "input": [
      "from sklearn.metrics.scorer import SCORERS"
     ],
     "language": "python",
     "metadata": {},
     "outputs": [],
     "prompt_number": 6
    },
    {
     "cell_type": "code",
     "collapsed": false,
     "input": [
      "SCORERS.keys()"
     ],
     "language": "python",
     "metadata": {},
     "outputs": [
      {
       "metadata": {},
       "output_type": "pyout",
       "prompt_number": 7,
       "text": [
        "['adjusted_rand_score',\n",
        " 'f1',\n",
        " 'mean_absolute_error',\n",
        " 'r2',\n",
        " 'recall',\n",
        " 'median_absolute_error',\n",
        " 'precision',\n",
        " 'log_loss',\n",
        " 'mean_squared_error',\n",
        " 'roc_auc',\n",
        " 'average_precision',\n",
        " 'accuracy']"
       ]
      }
     ],
     "prompt_number": 7
    },
    {
     "cell_type": "code",
     "collapsed": false,
     "input": [
      "from sklearn.metrics.scorer import accuracy_scorer\n",
      "\n",
      "def my_super_scoring(est, X, y):\n",
      "\treturn accuracy_scorer(est, X, y) - np.mean(est.coef_ != 0)\n"
     ],
     "language": "python",
     "metadata": {},
     "outputs": [],
     "prompt_number": 8
    },
    {
     "cell_type": "code",
     "collapsed": false,
     "input": [
      "from sklearn.svm import LinearSVC\n",
      "y = digits.target\n",
      "grid = GridSearchCV(LinearSVC(C=.01, dual=False), param_grid={'penalty' : ['l1', 'l2']}, scoring=my_super_scoring)\n",
      "grid.fit(X, y)\n",
      "print(grid.best_params_)"
     ],
     "language": "python",
     "metadata": {},
     "outputs": [
      {
       "output_type": "stream",
       "stream": "stdout",
       "text": [
        "{'penalty': 'l1'}\n"
       ]
      }
     ],
     "prompt_number": 9
    },
    {
     "cell_type": "code",
     "collapsed": false,
     "input": [
      "from sklearn.metrics.scorer import make_scorer\n",
      "\n",
      "def scoring_function(y_true, y_pred):\n",
      "\treturn (np.abs(y_true - y_pred) < 3).mean()\n",
      "    \n",
      "tolerant_scoring = make_scorer(scoring_function)\n",
      "print(cross_val_score(LinearSVC(random_state=0), X, y))\n",
      "print(cross_val_score(LinearSVC(random_state=0), X, y, scoring=tolerant_scoring))"
     ],
     "language": "python",
     "metadata": {},
     "outputs": [
      {
       "output_type": "stream",
       "stream": "stdout",
       "text": [
        "[ 0.88  0.94  0.88]\n",
        "[ 0.92  0.96  0.91]"
       ]
      },
      {
       "output_type": "stream",
       "stream": "stdout",
       "text": [
        "\n"
       ]
      }
     ],
     "prompt_number": 10
    }
   ],
   "metadata": {}
  }
 ]
}