{
 "cells": [
  {
   "cell_type": "markdown",
   "metadata": {},
   "source": [
    "# Check if a file or folder exists"
   ]
  },
  {
   "cell_type": "markdown",
   "metadata": {},
   "source": [
    "- https://stackoverflow.com/questions/2186525/use-a-glob-to-find-files-recursively-in-python\n",
    "- https://www.youtube.com/watch?v=DvZTW5g82pQ"
   ]
  },
  {
   "cell_type": "markdown",
   "metadata": {},
   "source": [
    "### Check\n",
    "\n",
    "1. `os.path.exists()`\n",
    "2. `open()` + `try..execpt` (IOError / FileNotFoundError)\n",
    "3. `pathlib.Path.exists()`"
   ]
  },
  {
   "cell_type": "markdown",
   "metadata": {},
   "source": [
    "```py\n",
    "os.path.exists\n",
    "os.path.isdir\n",
    "os.path.isfile\n",
    "os.path.basename\n",
    "```"
   ]
  },
  {
   "cell_type": "markdown",
   "metadata": {},
   "source": [
    "### Use a Glob() to find files recursively in Python?\n",
    "\n",
    "**Python 3.5+**\n",
    "\n",
    "Starting with Python version 3.5, the glob module supports the `**` directive (which is parsed only if you pass recursive flag):\n",
    "\n",
    "```py\n",
    "import glob\n",
    "\n",
    "for filename in glob.iglob('src/**/*.c', recursive=True):\n",
    "    print(filename)\n",
    "```"
   ]
  },
  {
   "cell_type": "code",
   "execution_count": null,
   "metadata": {
    "collapsed": true
   },
   "outputs": [],
   "source": []
  }
 ],
 "metadata": {
  "anaconda-cloud": {},
  "kernelspec": {
   "display_name": "Python [conda root]",
   "language": "python",
   "name": "conda-root-py"
  },
  "language_info": {
   "codemirror_mode": {
    "name": "ipython",
    "version": 3
   },
   "file_extension": ".py",
   "mimetype": "text/x-python",
   "name": "python",
   "nbconvert_exporter": "python",
   "pygments_lexer": "ipython3",
   "version": "3.5.2"
  }
 },
 "nbformat": 4,
 "nbformat_minor": 1
}
