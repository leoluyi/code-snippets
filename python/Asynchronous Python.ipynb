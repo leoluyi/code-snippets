{
 "cells": [
  {
   "cell_type": "markdown",
   "metadata": {},
   "source": [
    "# Asynchronous Python\n",
    "\n",
    "- [Morvan - 加速爬虫: 异步加载 Asyncio](https://morvanzhou.github.io/tutorials/data-manipulation/scraping/4-02-asyncio/)\n",
    "- [Miguel Grinberg - Asynchronous Python for the Complete Beginner](https://speakerdeck.com/pycon2017/miguel-grinberg-asynchronous-python-for-the-complete-beginner)\n",
    "    - [ [Video](https://www.youtube.com/watch?v=iG6fr81xHKA) ]\n",
    "- [Yury Selivanov asyncawait and asyncio in Python 3 6 and beyond PyCon 2017](https://github.com/PyCon/2017-slides/blob/master/Yury%20Selivanov%20-%20async-await%20and%20asyncio%20in%20Python%203.6%20and%20beyond.pptx)\n",
    "    - [ [Video](https://www.youtube.com/watch?v=2ZFFv-wZ8_g) ]"
   ]
  },
  {
   "cell_type": "markdown",
   "metadata": {},
   "source": [
    "## Asyncio\n",
    "\n",
    "当并行的进程数少的时候，`asyncio` 效果还会比多进程快。\n",
    "我们要时刻记住, `asyncio` 不是多进程, 也不是多线程, 单单是一个线程, 但是是在 Python 的功能间切换着执行. 切换的点用 `await` 来标记, 能够异步的功能用 `async` 标记\n",
    "\n",
    "<img src='img/asyncio-1.png' width=640 />\n",
    "<img src='img/asyncio-2.png' width=640 />"
   ]
  },
  {
   "cell_type": "code",
   "execution_count": 19,
   "metadata": {},
   "outputs": [
    {
     "name": "stdout",
     "output_type": "stream",
     "text": [
      "Start job 1\n",
      "Start job 2\n",
      "Start job 3\n",
      "Job 1 takes 1 sec\n",
      "Job 2 takes 4 sec\n",
      "Job 3 takes 9 sec\n",
      "Async total time :  9.007589101791382\n"
     ]
    }
   ],
   "source": [
    "import asyncio\n",
    "import time\n",
    "\n",
    "\n",
    "async def job(t):                   # async 形式的功能\n",
    "    print(f'Start job {t}')\n",
    "    await asyncio.sleep(t**2)          # 等待 \"t\" 秒, 期间切换其他任务\n",
    "    print(f'Job {t} takes {t**2} sec')\n",
    "\n",
    "\n",
    "async def main(loop):                       # async 形式的功能\n",
    "    tasks = [loop.create_task(job(t)) for t in range(1, 4)]  # 创建任务, 但是不执行\n",
    "    await asyncio.wait(tasks)               # 执行并等待所有任务完成\n",
    "\n",
    "t1 = time.time()\n",
    "loop = asyncio.new_event_loop()             # 建立 loop\n",
    "loop.run_until_complete(main(loop))         # 执行 loop\n",
    "loop.close()                                # 关闭 loop\n",
    "\n",
    "print(\"Async total time : \", time.time() - t1)"
   ]
  },
  {
   "cell_type": "markdown",
   "metadata": {},
   "source": [
    "### aiohttp"
   ]
  },
  {
   "cell_type": "code",
   "execution_count": null,
   "metadata": {},
   "outputs": [],
   "source": []
  }
 ],
 "metadata": {
  "kernelspec": {
   "display_name": "Python 3",
   "language": "python",
   "name": "python3"
  },
  "language_info": {
   "codemirror_mode": {
    "name": "ipython",
    "version": 3
   },
   "file_extension": ".py",
   "mimetype": "text/x-python",
   "name": "python",
   "nbconvert_exporter": "python",
   "pygments_lexer": "ipython3",
   "version": "3.6.4"
  }
 },
 "nbformat": 4,
 "nbformat_minor": 2
}
