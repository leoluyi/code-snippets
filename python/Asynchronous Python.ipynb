{
 "cells": [
  {
   "cell_type": "markdown",
   "metadata": {},
   "source": [
    "# Asynchronous Python\n",
    "\n",
    "- [Miguel Grinberg - Asynchronous Python for the Complete Beginner](https://speakerdeck.com/pycon2017/miguel-grinberg-asynchronous-python-for-the-complete-beginner)\n",
    "    - [ [Video](https://www.youtube.com/watch?v=iG6fr81xHKA) ]\n",
    "- [Yury Selivanov asyncawait and asyncio in Python 3 6 and beyond PyCon 2017](https://github.com/PyCon/2017-slides/blob/master/Yury%20Selivanov%20-%20async-await%20and%20asyncio%20in%20Python%203.6%20and%20beyond.pptx)\n",
    "    - [ [Video](https://www.youtube.com/watch?v=2ZFFv-wZ8_g) ]"
   ]
  },
  {
   "cell_type": "code",
   "execution_count": null,
   "metadata": {},
   "outputs": [],
   "source": []
  }
 ],
 "metadata": {
  "kernelspec": {
   "display_name": "Python 3",
   "language": "python",
   "name": "python3"
  },
  "language_info": {
   "codemirror_mode": {
    "name": "ipython",
    "version": 3
   },
   "file_extension": ".py",
   "mimetype": "text/x-python",
   "name": "python",
   "nbconvert_exporter": "python",
   "pygments_lexer": "ipython3",
   "version": "3.6.4"
  }
 },
 "nbformat": 4,
 "nbformat_minor": 2
}
