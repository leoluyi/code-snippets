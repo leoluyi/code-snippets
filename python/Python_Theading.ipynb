{
 "cells": [
  {
   "cell_type": "markdown",
   "metadata": {},
   "source": [
    "# Python - Theading"
   ]
  },
  {
   "cell_type": "code",
   "execution_count": 24,
   "metadata": {
    "collapsed": true
   },
   "outputs": [],
   "source": [
    "import threading\n",
    "import time"
   ]
  },
  {
   "cell_type": "code",
   "execution_count": 38,
   "metadata": {},
   "outputs": [
    {
     "name": "stdout",
     "output_type": "stream",
     "text": [
      "Active count:\n",
      "5\n",
      "All Threads:\n",
      "[<_MainThread(MainThread, started 140735753425728)>, <Thread(Thread-2, started daemon 123145459007488)>, <Heartbeat(Thread-3, started daemon 123145464262656)>, <HistorySavingThread(IPythonHistorySavingThread, started 123145470590976)>, <ParentPollerUnix(Thread-1, started daemon 123145475846144)>]\n",
      "Current thread:\n",
      "<_MainThread(MainThread, started 140735753425728)>\n"
     ]
    }
   ],
   "source": [
    "print(f'Active count:\\n{threading.active_count()}')\n",
    "print(f'All Threads:\\n{threading.enumerate()}')\n",
    "print(f'Current thread:\\n{threading.current_thread()}')"
   ]
  },
  {
   "cell_type": "code",
   "execution_count": 63,
   "metadata": {
    "collapsed": true
   },
   "outputs": [],
   "source": [
    "def job1():\n",
    "    print(f'Doing job at thread: {threading.current_thread()}\\n')\n",
    "    time.sleep(3)\n",
    "    print(f'Done job1!')\n",
    "    \n",
    "    \n",
    "def job2():\n",
    "    print(f'Doing job at thread: {threading.current_thread()}')\n",
    "    time.sleep(2)\n",
    "    print(f'Done job2!')"
   ]
  },
  {
   "cell_type": "code",
   "execution_count": 64,
   "metadata": {
    "collapsed": true
   },
   "outputs": [],
   "source": [
    "def main():\n",
    "    td1 = threading.Thread(target=job1, name='task1')\n",
    "    td2 = threading.Thread(target=job2, name='task2')\n",
    "    td1.start()\n",
    "    td2.start()\n",
    "    td1.join() # 附加到主線程，等 td 運行完之後才能繼續下面\n",
    "    td2.join()\n",
    "    print('\\nAll done!')"
   ]
  },
  {
   "cell_type": "code",
   "execution_count": 65,
   "metadata": {},
   "outputs": [
    {
     "name": "stdout",
     "output_type": "stream",
     "text": [
      "Doing job at thread: <Thread(task1, started 123145481101312)>\n",
      "Doing job at thread: <Thread(task2, started 123145486356480)>\n",
      "\n",
      "Done job2!\n",
      "Done job1!\n",
      "All done!\n",
      "\n"
     ]
    }
   ],
   "source": [
    "if __name__ == '__main__':\n",
    "    main()"
   ]
  },
  {
   "cell_type": "code",
   "execution_count": null,
   "metadata": {
    "collapsed": true
   },
   "outputs": [],
   "source": []
  }
 ],
 "metadata": {
  "kernelspec": {
   "display_name": "Python 3",
   "language": "python",
   "name": "python3"
  },
  "language_info": {
   "codemirror_mode": {
    "name": "ipython",
    "version": 3
   },
   "file_extension": ".py",
   "mimetype": "text/x-python",
   "name": "python",
   "nbconvert_exporter": "python",
   "pygments_lexer": "ipython3",
   "version": "3.6.2"
  }
 },
 "nbformat": 4,
 "nbformat_minor": 2
}
