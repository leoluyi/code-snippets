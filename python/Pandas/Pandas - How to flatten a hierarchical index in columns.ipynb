{
 "cells": [
  {
   "cell_type": "markdown",
   "metadata": {},
   "source": [
    "# Python Pandas - How to flatten a hierarchical index in columns\n",
    "\n",
    "https://stackoverflow.com/questions/14507794/python-pandas-how-to-flatten-a-hierarchical-index-in-columns"
   ]
  },
  {
   "cell_type": "code",
   "execution_count": 1,
   "metadata": {
    "collapsed": true
   },
   "outputs": [],
   "source": [
    "import pandas as pd"
   ]
  },
  {
   "cell_type": "code",
   "execution_count": 13,
   "metadata": {},
   "outputs": [
    {
     "data": {
      "text/html": [
       "<div>\n",
       "<style scoped>\n",
       "    .dataframe tbody tr th:only-of-type {\n",
       "        vertical-align: middle;\n",
       "    }\n",
       "\n",
       "    .dataframe tbody tr th {\n",
       "        vertical-align: top;\n",
       "    }\n",
       "\n",
       "    .dataframe thead tr th {\n",
       "        text-align: left;\n",
       "    }\n",
       "</style>\n",
       "<table border=\"1\" class=\"dataframe\">\n",
       "  <thead>\n",
       "    <tr>\n",
       "      <th></th>\n",
       "      <th>USAF</th>\n",
       "      <th>WBAN</th>\n",
       "      <th>day</th>\n",
       "      <th>month</th>\n",
       "      <th>s_CD</th>\n",
       "      <th>s_CL</th>\n",
       "      <th>s_CNT</th>\n",
       "      <th>s_PC</th>\n",
       "      <th colspan=\"2\" halign=\"left\">tempf</th>\n",
       "      <th>year</th>\n",
       "    </tr>\n",
       "    <tr>\n",
       "      <th></th>\n",
       "      <th></th>\n",
       "      <th></th>\n",
       "      <th></th>\n",
       "      <th></th>\n",
       "      <th>sum</th>\n",
       "      <th>sum</th>\n",
       "      <th>sum</th>\n",
       "      <th>sum</th>\n",
       "      <th>amax</th>\n",
       "      <th>amin</th>\n",
       "      <th></th>\n",
       "    </tr>\n",
       "  </thead>\n",
       "  <tbody>\n",
       "    <tr>\n",
       "      <th>0</th>\n",
       "      <td>702730</td>\n",
       "      <td>26451</td>\n",
       "      <td>1</td>\n",
       "      <td>1</td>\n",
       "      <td>12.0</td>\n",
       "      <td>0.0</td>\n",
       "      <td>13.0</td>\n",
       "      <td>1.0</td>\n",
       "      <td>30.92</td>\n",
       "      <td>24.98</td>\n",
       "      <td>1993</td>\n",
       "    </tr>\n",
       "    <tr>\n",
       "      <th>1</th>\n",
       "      <td>702730</td>\n",
       "      <td>26451</td>\n",
       "      <td>2</td>\n",
       "      <td>1</td>\n",
       "      <td>13.0</td>\n",
       "      <td>0.0</td>\n",
       "      <td>13.0</td>\n",
       "      <td>0.0</td>\n",
       "      <td>32.00</td>\n",
       "      <td>24.98</td>\n",
       "      <td>1993</td>\n",
       "    </tr>\n",
       "    <tr>\n",
       "      <th>2</th>\n",
       "      <td>702730</td>\n",
       "      <td>26451</td>\n",
       "      <td>3</td>\n",
       "      <td>1</td>\n",
       "      <td>2.0</td>\n",
       "      <td>10.0</td>\n",
       "      <td>13.0</td>\n",
       "      <td>1.0</td>\n",
       "      <td>23.00</td>\n",
       "      <td>6.98</td>\n",
       "      <td>1993</td>\n",
       "    </tr>\n",
       "    <tr>\n",
       "      <th>3</th>\n",
       "      <td>702730</td>\n",
       "      <td>26451</td>\n",
       "      <td>4</td>\n",
       "      <td>1</td>\n",
       "      <td>12.0</td>\n",
       "      <td>0.0</td>\n",
       "      <td>13.0</td>\n",
       "      <td>1.0</td>\n",
       "      <td>10.04</td>\n",
       "      <td>3.92</td>\n",
       "      <td>1993</td>\n",
       "    </tr>\n",
       "    <tr>\n",
       "      <th>4</th>\n",
       "      <td>702730</td>\n",
       "      <td>26451</td>\n",
       "      <td>5</td>\n",
       "      <td>1</td>\n",
       "      <td>10.0</td>\n",
       "      <td>0.0</td>\n",
       "      <td>13.0</td>\n",
       "      <td>3.0</td>\n",
       "      <td>19.94</td>\n",
       "      <td>10.94</td>\n",
       "      <td>1993</td>\n",
       "    </tr>\n",
       "  </tbody>\n",
       "</table>\n",
       "</div>"
      ],
      "text/plain": [
       "     USAF   WBAN day month  s_CD  s_CL s_CNT s_PC  tempf         year\n",
       "                             sum   sum   sum  sum   amax   amin      \n",
       "0  702730  26451   1     1  12.0   0.0  13.0  1.0  30.92  24.98  1993\n",
       "1  702730  26451   2     1  13.0   0.0  13.0  0.0  32.00  24.98  1993\n",
       "2  702730  26451   3     1   2.0  10.0  13.0  1.0  23.00   6.98  1993\n",
       "3  702730  26451   4     1  12.0   0.0  13.0  1.0  10.04   3.92  1993\n",
       "4  702730  26451   5     1  10.0   0.0  13.0  3.0  19.94  10.94  1993"
      ]
     },
     "execution_count": 13,
     "metadata": {},
     "output_type": "execute_result"
    }
   ],
   "source": [
    "df = pd.DataFrame.from_dict({\n",
    "    ('USAF', ''): ['702730', '702730', '702730', '702730', '702730'],\n",
    "    ('WBAN', ''): ['26451', '26451', '26451', '26451', '26451'],\n",
    "    ('day', ''): [1, 2, 3, 4, 5],\n",
    "    ('month', ''): [1, 1, 1, 1, 1],\n",
    "    ('s_CD', 'sum'): [12.0, 13.0, 2.0, 12.0, 10.0],\n",
    "    ('s_CL', 'sum'): [0.0, 0.0, 10.0, 0.0, 0.0],\n",
    "    ('s_CNT', 'sum'): [13.0, 13.0, 13.0, 13.0, 13.0],\n",
    "    ('s_PC', 'sum'): [1.0, 0.0, 1.0, 1.0, 3.0],\n",
    "    ('tempf', 'amax'): [30.92, 32.0, 23.0, 10.04, 19.94],\n",
    "    ('tempf', 'amin'): [24.98, 24.98, 6.98, 3.92, 10.94],\n",
    "    ('year', ''): [1993, 1993, 1993, 1993, 1993]\n",
    "})\n",
    "df"
   ]
  },
  {
   "cell_type": "code",
   "execution_count": 14,
   "metadata": {},
   "outputs": [
    {
     "data": {
      "text/plain": [
       "Index(['USAF', 'WBAN', 'day', 'month', 's_CD', 's_CL', 's_CNT', 's_PC',\n",
       "       'tempf', 'tempf', 'year'],\n",
       "      dtype='object')"
      ]
     },
     "execution_count": 14,
     "metadata": {},
     "output_type": "execute_result"
    }
   ],
   "source": [
    "df.columns.get_level_values(0)"
   ]
  },
  {
   "cell_type": "code",
   "execution_count": 17,
   "metadata": {},
   "outputs": [
    {
     "data": {
      "text/plain": [
       "array([('USAF', ''), ('WBAN', ''), ('day', ''), ('month', ''),\n",
       "       ('s_CD', 'sum'), ('s_CL', 'sum'), ('s_CNT', 'sum'),\n",
       "       ('s_PC', 'sum'), ('tempf', 'amax'), ('tempf', 'amin'),\n",
       "       ('year', '')], dtype=object)"
      ]
     },
     "execution_count": 17,
     "metadata": {},
     "output_type": "execute_result"
    }
   ],
   "source": [
    "df.columns.values"
   ]
  },
  {
   "cell_type": "code",
   "execution_count": 21,
   "metadata": {},
   "outputs": [
    {
     "data": {
      "text/plain": [
       "['USAF',\n",
       " 'WBAN',\n",
       " 'day',\n",
       " 'month',\n",
       " 's_CD_sum',\n",
       " 's_CL_sum',\n",
       " 's_CNT_sum',\n",
       " 's_PC_sum',\n",
       " 'tempf_amax',\n",
       " 'tempf_amin',\n",
       " 'year']"
      ]
     },
     "execution_count": 21,
     "metadata": {},
     "output_type": "execute_result"
    }
   ],
   "source": [
    "new_cols = ['_'.join(val for val in col if val) for col in df.columns.values]\n",
    "new_cols"
   ]
  },
  {
   "cell_type": "code",
   "execution_count": 22,
   "metadata": {
    "collapsed": true
   },
   "outputs": [],
   "source": [
    "df.columns = new_cols"
   ]
  },
  {
   "cell_type": "code",
   "execution_count": 23,
   "metadata": {},
   "outputs": [
    {
     "data": {
      "text/html": [
       "<div>\n",
       "<style scoped>\n",
       "    .dataframe tbody tr th:only-of-type {\n",
       "        vertical-align: middle;\n",
       "    }\n",
       "\n",
       "    .dataframe tbody tr th {\n",
       "        vertical-align: top;\n",
       "    }\n",
       "\n",
       "    .dataframe thead th {\n",
       "        text-align: right;\n",
       "    }\n",
       "</style>\n",
       "<table border=\"1\" class=\"dataframe\">\n",
       "  <thead>\n",
       "    <tr style=\"text-align: right;\">\n",
       "      <th></th>\n",
       "      <th>USAF</th>\n",
       "      <th>WBAN</th>\n",
       "      <th>day</th>\n",
       "      <th>month</th>\n",
       "      <th>s_CD_sum</th>\n",
       "      <th>s_CL_sum</th>\n",
       "      <th>s_CNT_sum</th>\n",
       "      <th>s_PC_sum</th>\n",
       "      <th>tempf_amax</th>\n",
       "      <th>tempf_amin</th>\n",
       "      <th>year</th>\n",
       "    </tr>\n",
       "  </thead>\n",
       "  <tbody>\n",
       "    <tr>\n",
       "      <th>0</th>\n",
       "      <td>702730</td>\n",
       "      <td>26451</td>\n",
       "      <td>1</td>\n",
       "      <td>1</td>\n",
       "      <td>12.0</td>\n",
       "      <td>0.0</td>\n",
       "      <td>13.0</td>\n",
       "      <td>1.0</td>\n",
       "      <td>30.92</td>\n",
       "      <td>24.98</td>\n",
       "      <td>1993</td>\n",
       "    </tr>\n",
       "    <tr>\n",
       "      <th>1</th>\n",
       "      <td>702730</td>\n",
       "      <td>26451</td>\n",
       "      <td>2</td>\n",
       "      <td>1</td>\n",
       "      <td>13.0</td>\n",
       "      <td>0.0</td>\n",
       "      <td>13.0</td>\n",
       "      <td>0.0</td>\n",
       "      <td>32.00</td>\n",
       "      <td>24.98</td>\n",
       "      <td>1993</td>\n",
       "    </tr>\n",
       "    <tr>\n",
       "      <th>2</th>\n",
       "      <td>702730</td>\n",
       "      <td>26451</td>\n",
       "      <td>3</td>\n",
       "      <td>1</td>\n",
       "      <td>2.0</td>\n",
       "      <td>10.0</td>\n",
       "      <td>13.0</td>\n",
       "      <td>1.0</td>\n",
       "      <td>23.00</td>\n",
       "      <td>6.98</td>\n",
       "      <td>1993</td>\n",
       "    </tr>\n",
       "    <tr>\n",
       "      <th>3</th>\n",
       "      <td>702730</td>\n",
       "      <td>26451</td>\n",
       "      <td>4</td>\n",
       "      <td>1</td>\n",
       "      <td>12.0</td>\n",
       "      <td>0.0</td>\n",
       "      <td>13.0</td>\n",
       "      <td>1.0</td>\n",
       "      <td>10.04</td>\n",
       "      <td>3.92</td>\n",
       "      <td>1993</td>\n",
       "    </tr>\n",
       "    <tr>\n",
       "      <th>4</th>\n",
       "      <td>702730</td>\n",
       "      <td>26451</td>\n",
       "      <td>5</td>\n",
       "      <td>1</td>\n",
       "      <td>10.0</td>\n",
       "      <td>0.0</td>\n",
       "      <td>13.0</td>\n",
       "      <td>3.0</td>\n",
       "      <td>19.94</td>\n",
       "      <td>10.94</td>\n",
       "      <td>1993</td>\n",
       "    </tr>\n",
       "  </tbody>\n",
       "</table>\n",
       "</div>"
      ],
      "text/plain": [
       "     USAF   WBAN  day  month  s_CD_sum  s_CL_sum  s_CNT_sum  s_PC_sum  \\\n",
       "0  702730  26451    1      1      12.0       0.0       13.0       1.0   \n",
       "1  702730  26451    2      1      13.0       0.0       13.0       0.0   \n",
       "2  702730  26451    3      1       2.0      10.0       13.0       1.0   \n",
       "3  702730  26451    4      1      12.0       0.0       13.0       1.0   \n",
       "4  702730  26451    5      1      10.0       0.0       13.0       3.0   \n",
       "\n",
       "   tempf_amax  tempf_amin  year  \n",
       "0       30.92       24.98  1993  \n",
       "1       32.00       24.98  1993  \n",
       "2       23.00        6.98  1993  \n",
       "3       10.04        3.92  1993  \n",
       "4       19.94       10.94  1993  "
      ]
     },
     "execution_count": 23,
     "metadata": {},
     "output_type": "execute_result"
    }
   ],
   "source": [
    "df"
   ]
  },
  {
   "cell_type": "code",
   "execution_count": null,
   "metadata": {
    "collapsed": true
   },
   "outputs": [],
   "source": []
  }
 ],
 "metadata": {
  "kernelspec": {
   "display_name": "Python 3",
   "language": "python",
   "name": "python3"
  },
  "language_info": {
   "codemirror_mode": {
    "name": "ipython",
    "version": 3
   },
   "file_extension": ".py",
   "mimetype": "text/x-python",
   "name": "python",
   "nbconvert_exporter": "python",
   "pygments_lexer": "ipython3",
   "version": "3.6.3"
  }
 },
 "nbformat": 4,
 "nbformat_minor": 2
}
