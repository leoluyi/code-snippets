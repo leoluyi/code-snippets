{
 "cells": [
  {
   "cell_type": "markdown",
   "metadata": {},
   "source": [
    "# Decorators - Dynamically Alter The Functionality Of Your Functions\n",
    "\n",
    "- [Video](https://www.youtube.com/watch?v=kr0mpwqttM0&feature=youtu.be)\n",
    "- [Source code](https://github.com/CoreyMSchafer/code_snippets/blob/master/Decorators/snippets.txt)"
   ]
  },
  {
   "cell_type": "markdown",
   "metadata": {},
   "source": [
    "## Closures"
   ]
  },
  {
   "cell_type": "code",
   "execution_count": 1,
   "metadata": {
    "ExecuteTime": {
     "end_time": "2017-07-19T22:13:42.059269Z",
     "start_time": "2017-07-19T22:13:42.044588Z"
    }
   },
   "outputs": [
    {
     "name": "stdout",
     "output_type": "stream",
     "text": [
      "hi\n",
      "bye\n"
     ]
    }
   ],
   "source": [
    "def outer_function(msg):\n",
    "    def inner_function():\n",
    "        print(msg)\n",
    "    return inner_function\n",
    "\n",
    "hi_func = outer_function('hi')\n",
    "bye_func = outer_function('bye')\n",
    "\n",
    "hi_func()\n",
    "bye_func()"
   ]
  },
  {
   "cell_type": "code",
   "execution_count": 2,
   "metadata": {
    "ExecuteTime": {
     "end_time": "2017-07-19T22:22:27.458546Z",
     "start_time": "2017-07-19T22:22:27.433885Z"
    }
   },
   "outputs": [
    {
     "name": "stdout",
     "output_type": "stream",
     "text": [
      "wrapper executed this before \"display\"\n",
      "display function ran\n",
      "wrapper executed this before \"display_info\"\n",
      "display_info ran with arguments (John, 35)\n"
     ]
    }
   ],
   "source": [
    "def decorator_function(original_function):\n",
    "    def wrapper_function(*args, **kwargs):\n",
    "        print('wrapper executed this before \"{}\"'.format(\n",
    "            original_function.__name__))\n",
    "        original_function(*args, **kwargs)\n",
    "    return wrapper_function\n",
    "\n",
    "\n",
    "def display():\n",
    "    print('display function ran')\n",
    "\n",
    "\n",
    "@decorator_function\n",
    "def display_info(name, age):\n",
    "    print('display_info ran with arguments ({name}, {age})'.format(\n",
    "        name=name, age=age))\n",
    "\n",
    "\n",
    "decorated_function = decorator_function(display)\n",
    "decorated_function()\n",
    "display_info('John', 35)"
   ]
  },
  {
   "cell_type": "code",
   "execution_count": 3,
   "metadata": {
    "ExecuteTime": {
     "end_time": "2017-07-19T22:33:48.996538Z",
     "start_time": "2017-07-19T22:33:48.974714Z"
    }
   },
   "outputs": [
    {
     "name": "stdout",
     "output_type": "stream",
     "text": [
      "Enter DecoratorClass init\n",
      "Exit DecoratorClass init\n",
      "Call method before \"display_info\"\n",
      "\"display_info\" ran with arguments (John, 35)\n",
      "Call method after \"display_info\"\n"
     ]
    }
   ],
   "source": [
    "# https://youtu.be/FsAPt_9Bf3U?t=13m25s\n",
    "class DecoratorClass(object):\n",
    "\n",
    "    def __init__(self, original_function):\n",
    "        print('Enter {} init'.format(self.__class__.__name__))\n",
    "        # tie the original_function to the instance of Class\n",
    "        self.original_function = original_function\n",
    "        print('Exit {} init'.format(self.__class__.__name__))\n",
    "\n",
    "    def __call__(self, *args, **kwargs):\n",
    "        print('Call method before \"{}\"'.format(self.original_function.__name__))\n",
    "        self.original_function(*args, **kwargs)\n",
    "        print('Call method after \"{}\"'.format(self.original_function.__name__))\n",
    "\n",
    "@DecoratorClass\n",
    "def display_info(name, age):\n",
    "    print('\"display_info\" ran with arguments ({name}, {age})'.format(\n",
    "        name=name, age=age))\n",
    "\n",
    "\n",
    "display_info('John', 35)"
   ]
  },
  {
   "cell_type": "code",
   "execution_count": 4,
   "metadata": {
    "collapsed": true
   },
   "outputs": [],
   "source": [
    "# Decorators\n",
    "from functools import wraps\n",
    "import logging\n",
    "\n",
    "\n",
    "def my_logger(orig_func):\n",
    "\n",
    "    logging.basicConfig(filename='{}.log'.format(\n",
    "        orig_func.__name__), level=logging.INFO)\n",
    "\n",
    "    @wraps(orig_func)\n",
    "    def wrapper(*args, **kwargs):\n",
    "        logging.info(\n",
    "            'Ran with args: {}, and kwargs: {}'.format(args, kwargs))\n",
    "        return orig_func(*args, **kwargs)\n",
    "\n",
    "    return wrapper\n",
    "\n",
    "\n",
    "def my_timer(orig_func):\n",
    "    import time\n",
    "\n",
    "    @wraps(orig_func)\n",
    "    def wrapper(*args, **kwargs):\n",
    "        t1 = time.time()\n",
    "        result = orig_func(*args, **kwargs)\n",
    "        t2 = time.time() - t1\n",
    "        print('{} ran in: {} sec'.format(orig_func.__name__, t2))\n",
    "        return result\n",
    "\n",
    "    return wrapper"
   ]
  },
  {
   "cell_type": "code",
   "execution_count": 5,
   "metadata": {
    "ExecuteTime": {
     "end_time": "2017-07-19T22:35:01.185895Z",
     "start_time": "2017-07-19T22:35:01.143134Z"
    },
    "collapsed": true
   },
   "outputs": [],
   "source": [
    "# Practical Examples\n",
    "\n",
    "\n",
    "def my_logger(orig_func):\n",
    "    import logging\n",
    "    logging.basicConfig(filename='{}.log'.format(\n",
    "        orig_func.__name__), level=logging.INFO)\n",
    "\n",
    "    def wrapper(*args, **kwargs):\n",
    "        logging.info(\n",
    "            'Ran with args: {}, and kwargs: {}'.format(args, kwargs))\n",
    "        return orig_func(*args, **kwargs)\n",
    "\n",
    "    return wrapper\n",
    "\n",
    "\n",
    "def my_timer(orig_func):\n",
    "    import time\n",
    "\n",
    "    def wrapper(*args, **kwargs):\n",
    "        t1 = time.time()\n",
    "        result = orig_func(*args, **kwargs)\n",
    "        t2 = time.time() - t1\n",
    "        print('{} ran in: {} sec'.format(orig_func.__name__, t2))\n",
    "        return result\n",
    "\n",
    "    return wrapper\n",
    "\n",
    "\n",
    "import time"
   ]
  },
  {
   "cell_type": "code",
   "execution_count": null,
   "metadata": {
    "collapsed": true
   },
   "outputs": [],
   "source": []
  }
 ],
 "metadata": {
  "anaconda-cloud": {},
  "kernelspec": {
   "display_name": "Python 3",
   "language": "python",
   "name": "python3"
  },
  "language_info": {
   "codemirror_mode": {
    "name": "ipython",
    "version": 3
   },
   "file_extension": ".py",
   "mimetype": "text/x-python",
   "name": "python",
   "nbconvert_exporter": "python",
   "pygments_lexer": "ipython3",
   "version": "3.6.2"
  }
 },
 "nbformat": 4,
 "nbformat_minor": 2
}
