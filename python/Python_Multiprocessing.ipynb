{
 "cells": [
  {
   "cell_type": "markdown",
   "metadata": {},
   "source": [
    "# Python - Multiprocessing\n",
    "\n",
    "- Introducing Python: Modern Computing in Simple Packages (p.269)\n",
    "- [Queue](https://www.youtube.com/watch?v=_TNIlBlV5c0)"
   ]
  },
  {
   "cell_type": "code",
   "execution_count": 1,
   "metadata": {
    "collapsed": true
   },
   "outputs": [],
   "source": [
    "import multiprocessing\n",
    "import os\n",
    "import time"
   ]
  },
  {
   "cell_type": "code",
   "execution_count": 2,
   "metadata": {
    "collapsed": true
   },
   "outputs": [],
   "source": [
    "def do_job(name):\n",
    "    whoami(name)\n",
    "    \n",
    "def whoami(name):\n",
    "    print(f'Process {os.getpid()} doing {name}')\n",
    "    \n",
    "def loopy(name):\n",
    "    whoami(name)\n",
    "    start = 1\n",
    "    stop = 100000\n",
    "    for i in range(start, stop):\n",
    "        print(f'Doing {i} of {stop}')\n",
    "        time.sleep(1)"
   ]
  },
  {
   "cell_type": "code",
   "execution_count": 13,
   "metadata": {},
   "outputs": [
    {
     "name": "stdout",
     "output_type": "stream",
     "text": [
      "Process 2919 doing Main program\n",
      "Process 2945 doing loop 0\n",
      "Process 2946 doing loop 1\n",
      "Process 2947 doing loop 2\n",
      "Process 2948 doing loop 3\n"
     ]
    }
   ],
   "source": [
    "if __name__ == '__main__':\n",
    "    whoami('Main program')\n",
    "    for i in range(4):\n",
    "        p = multiprocessing.Process(target=do_job, args=(f'loop {i}',))\n",
    "        p.start()"
   ]
  },
  {
   "cell_type": "code",
   "execution_count": 23,
   "metadata": {},
   "outputs": [
    {
     "name": "stdout",
     "output_type": "stream",
     "text": [
      "Process 2919 doing Main program\n",
      "Process 2970 doing loopy\n",
      "Doing 1 of 100000\n",
      "Backgound processing...\n",
      "Doing 2 of 100000\n",
      "Doing 3 of 100000\n",
      "Doing 4 of 100000\n",
      "Doing 5 of 100000\n",
      "Stopped\n"
     ]
    }
   ],
   "source": [
    "if __name__ == '__main__':\n",
    "    whoami('Main program')\n",
    "    p = multiprocessing.Process(target=loopy, args=(f'loopy',))\n",
    "    p.start()  # 開始背景作業\n",
    "    print('Backgound processing...')\n",
    "    time.sleep(5)\n",
    "    p.terminate()  # 提前終止\n",
    "    print('Stopped')"
   ]
  },
  {
   "cell_type": "markdown",
   "metadata": {},
   "source": [
    "---"
   ]
  },
  {
   "cell_type": "markdown",
   "metadata": {},
   "source": [
    "## Queue"
   ]
  },
  {
   "cell_type": "code",
   "execution_count": 7,
   "metadata": {
    "collapsed": true
   },
   "outputs": [],
   "source": [
    "import multiprocessing as mp\n",
    "import time\n",
    "import os"
   ]
  },
  {
   "cell_type": "code",
   "execution_count": 8,
   "metadata": {
    "collapsed": true
   },
   "outputs": [],
   "source": [
    "def washer(dishes, output):\n",
    "    for dish in dishes:\n",
    "        print(f'[{time.time() - tic:.2f}] Washing dish ({os.getpid()}): {dish}')\n",
    "        time.sleep(1)\n",
    "        output.put(dish)\n",
    "        \n",
    "def dryer(input):\n",
    "    while True:\n",
    "        dish = input.get()\n",
    "        print(f'[{time.time() - tic:.2f}] Drying dish ({os.getpid()}): {dish}')\n",
    "        time.sleep(5)\n",
    "        input.task_done()"
   ]
  },
  {
   "cell_type": "code",
   "execution_count": 11,
   "metadata": {},
   "outputs": [
    {
     "name": "stdout",
     "output_type": "stream",
     "text": [
      "[0.04] Washing dish (8840): apple\n",
      "[1.05] Drying dish (8914): apple\n",
      "[1.05] Washing dish (8840): banana\n",
      "[2.06] Drying dish (8915): banana\n",
      "[2.06] Washing dish (8840): orange\n",
      "[3.06] Washing dish (8840): salad\n",
      "[6.06] Drying dish (8914): orange\n",
      "[7.07] Drying dish (8915): salad\n"
     ]
    }
   ],
   "source": [
    "if __name__ == '__main__':\n",
    "    tic = time.time()\n",
    "    dish_queue = mp.JoinableQueue()\n",
    "    \n",
    "    # 逐個加載 Processor 到 dish_queue\n",
    "    dryer_proc1 = mp.Process(target=dryer, args=(dish_queue,))\n",
    "    dryer_proc2 = mp.Process(target=dryer, args=(dish_queue,))\n",
    "    dryer_proc1.daemon = True  # 會在背景一直等著執行 This must be set before start() is called.\n",
    "    dryer_proc2.daemon = True  # 總共 2 dryers\n",
    "    dryer_proc1.start()  # 開始進程 1\n",
    "    dryer_proc2.start()  # 開始進程 2\n",
    "\n",
    "    # 開始工作\n",
    "    dishes = ['apple', 'banana', 'orange', 'salad']\n",
    "    washer(dishes, dish_queue)  # washer 先逐個洗盤子，洗完的盤子丟到 dish_queue\n",
    "    dish_queue.join()  # Block until all items in the queue have been gotten and processed."
   ]
  },
  {
   "cell_type": "markdown",
   "metadata": {
    "collapsed": true
   },
   "source": [
    "[**Queue vs JoinableQueue**](https://stackoverflow.com/a/31230329/3744499)\n",
    "\n",
    "JoinableQueue has methods join() and task_done(), which Queue hasn't.\n",
    "\n",
    "> **class multiprocessing.JoinableQueue( [maxsize] )**\n",
    "> \n",
    "> JoinableQueue, a Queue subclass, is a queue which additionally has task_done() and join() methods.\n",
    "\n",
    "If you use `JoinableQueue` then you must call `JoinableQueue.task_done()` for each task removed from the queue or else the semaphore used to count the number of unfinished tasks may eventually overflow, raising an exception."
   ]
  },
  {
   "cell_type": "code",
   "execution_count": null,
   "metadata": {
    "collapsed": true
   },
   "outputs": [],
   "source": []
  }
 ],
 "metadata": {
  "kernelspec": {
   "display_name": "Python 3",
   "language": "python",
   "name": "python3"
  },
  "language_info": {
   "codemirror_mode": {
    "name": "ipython",
    "version": 3
   },
   "file_extension": ".py",
   "mimetype": "text/x-python",
   "name": "python",
   "nbconvert_exporter": "python",
   "pygments_lexer": "ipython3",
   "version": "3.6.2"
  }
 },
 "nbformat": 4,
 "nbformat_minor": 2
}
