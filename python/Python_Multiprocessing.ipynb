{
 "cells": [
  {
   "cell_type": "markdown",
   "metadata": {},
   "source": [
    "# Python - Multiprocessing\n",
    "\n",
    "- Introducing Python: Modern Computing in Simple Packages (p.269)\n",
    "- [Queue](https://www.youtube.com/watch?v=_TNIlBlV5c0)\n",
    "- http://outofmemory.cn/code-snippet/2267/Python-duojincheng-multiprocessing-usage-example"
   ]
  },
  {
   "cell_type": "code",
   "execution_count": 1,
   "metadata": {
    "collapsed": true
   },
   "outputs": [],
   "source": [
    "import multiprocessing\n",
    "import os\n",
    "import time"
   ]
  },
  {
   "cell_type": "code",
   "execution_count": 2,
   "metadata": {
    "collapsed": true
   },
   "outputs": [],
   "source": [
    "def do_job(name):\n",
    "    whoami(name)\n",
    "    \n",
    "def whoami(name):\n",
    "    print(f'Process {os.getpid()} doing {name}')\n",
    "    \n",
    "def loopy(name):\n",
    "    whoami(name)\n",
    "    start = 1\n",
    "    stop = 100000\n",
    "    for i in range(start, stop):\n",
    "        print(f'Doing {i} of {stop}')\n",
    "        time.sleep(1)"
   ]
  },
  {
   "cell_type": "code",
   "execution_count": 3,
   "metadata": {},
   "outputs": [
    {
     "name": "stdout",
     "output_type": "stream",
     "text": [
      "Process 12526 doing Main program\n",
      "Process 12531 doing loop 0\n",
      "Process 12532 doing loop 1\n",
      "Process 12533 doing loop 2\n",
      "Process 12534 doing loop 3\n"
     ]
    }
   ],
   "source": [
    "if __name__ == '__main__':\n",
    "    whoami('Main program')\n",
    "    for i in range(4):\n",
    "        p = multiprocessing.Process(target=do_job, args=(f'loop {i}',))\n",
    "        p.start()"
   ]
  },
  {
   "cell_type": "code",
   "execution_count": 4,
   "metadata": {},
   "outputs": [
    {
     "name": "stdout",
     "output_type": "stream",
     "text": [
      "Process 12526 doing Main program\n",
      "Process 12535 doing loopy\n",
      "Doing 1 of 100000\n",
      "Backgound processing...\n",
      "Doing 2 of 100000\n",
      "Doing 3 of 100000\n",
      "Doing 4 of 100000\n",
      "Doing 5 of 100000\n",
      "Stopped\n"
     ]
    }
   ],
   "source": [
    "if __name__ == '__main__':\n",
    "    whoami('Main program')\n",
    "    p = multiprocessing.Process(target=loopy, args=(f'loopy',))\n",
    "    p.start()  # 開始背景作業\n",
    "    print('Backgound processing...')\n",
    "    time.sleep(5)\n",
    "    p.terminate()  # 提前終止\n",
    "    print('Stopped')"
   ]
  },
  {
   "cell_type": "markdown",
   "metadata": {},
   "source": [
    "---"
   ]
  },
  {
   "cell_type": "markdown",
   "metadata": {},
   "source": [
    "## Queue"
   ]
  },
  {
   "cell_type": "code",
   "execution_count": 5,
   "metadata": {
    "collapsed": true
   },
   "outputs": [],
   "source": [
    "import multiprocessing as mp\n",
    "import time\n",
    "import os"
   ]
  },
  {
   "cell_type": "code",
   "execution_count": 6,
   "metadata": {
    "collapsed": true
   },
   "outputs": [],
   "source": [
    "def washer(dishes, output):\n",
    "    for dish in dishes:\n",
    "        print(f'[{time.time() - tic:.2f}] Washing dish ({os.getpid()}): {dish}')\n",
    "        time.sleep(1)\n",
    "        output.put(dish)\n",
    "        \n",
    "def dryer(input):\n",
    "    name = mp.current_process().name\n",
    "    while True:\n",
    "        dish = input.get()\n",
    "        print(f'[{time.time() - tic:.2f}] {name}({os.getpid()}) - Drying dish: {dish}')\n",
    "        time.sleep(5)\n",
    "        print(f'[{time.time() - tic:.2f}] {name}({os.getpid()}) - Done: {dish}')\n",
    "        input.task_done()  # tell queue that the task is done"
   ]
  },
  {
   "cell_type": "code",
   "execution_count": 7,
   "metadata": {},
   "outputs": [
    {
     "name": "stdout",
     "output_type": "stream",
     "text": [
      "[0.02] Washing dish (12526): apple\n",
      "[1.03] Process-6(12536) - Drying dish: apple\n",
      "[1.03] Washing dish (12526): banana\n",
      "[2.03] Process-7(12537) - Drying dish: banana\n",
      "[2.03] Washing dish (12526): orange\n",
      "[3.04] Washing dish (12526): salad\n",
      "All wash work done!!!\n",
      "[6.04] Process-6(12536) - Done: apple\n",
      "[6.04] Process-6(12536) - Drying dish: orange\n",
      "[7.04] Process-7(12537) - Done: banana\n",
      "[7.04] Process-7(12537) - Drying dish: salad\n",
      "[11.05] Process-6(12536) - Done: orange\n",
      "[12.05] Process-7(12537) - Done: salad\n",
      "All Done!\n"
     ]
    }
   ],
   "source": [
    "if __name__ == '__main__':\n",
    "    tic = time.time()\n",
    "    dish_queue = mp.JoinableQueue()\n",
    "    \n",
    "    # 逐個加載 Processor 到 dish_queue\n",
    "    dryer_proc1 = mp.Process(target=dryer, args=(dish_queue,))\n",
    "    dryer_proc2 = mp.Process(target=dryer, args=(dish_queue,))\n",
    "    dryer_proc1.daemon = True  # 會在背景一直等著執行 This must be set before start() is called.\n",
    "    dryer_proc2.daemon = True  # 總共 2 dryers\n",
    "    dryer_proc1.start()  # 開始進程 1\n",
    "    dryer_proc2.start()  # 開始進程 2\n",
    "\n",
    "    # 開始工作\n",
    "    dishes = ['apple', 'banana', 'orange', 'salad']\n",
    "    washer(dishes, dish_queue)  # washer 先逐個洗盤子，洗完的盤子丟到 dish_queue\n",
    "    print('All wash work done!!!')\n",
    "    dish_queue.join()  # Block until all items in the queue have been gotten and processed.\n",
    "    print('All Done!')"
   ]
  },
  {
   "cell_type": "markdown",
   "metadata": {
    "collapsed": true
   },
   "source": [
    "[**Queue vs JoinableQueue**](https://stackoverflow.com/a/31230329/3744499)\n",
    "\n",
    "JoinableQueue has methods join() and task_done(), which Queue hasn't.\n",
    "\n",
    "> **class multiprocessing.JoinableQueue( [maxsize] )**\n",
    "> \n",
    "> JoinableQueue, a Queue subclass, is a queue which additionally has task_done() and join() methods.\n",
    "\n",
    "If you use `JoinableQueue` then you must call `JoinableQueue.task_done()` for each task removed from the queue or else the semaphore used to count the number of unfinished tasks may eventually overflow, raising an exception."
   ]
  },
  {
   "cell_type": "markdown",
   "metadata": {
    "collapsed": true
   },
   "source": [
    "### Deamon Process"
   ]
  },
  {
   "cell_type": "code",
   "execution_count": 8,
   "metadata": {},
   "outputs": [
    {
     "name": "stdout",
     "output_type": "stream",
     "text": [
      "[0.02] Starting: daemon\n",
      "[0.03] Starting: non-daemon\n",
      "[0.04] Exiting: non-daemon\n",
      "d.is_alive(): True\n",
      "[5.03] Exiting: daemon\n"
     ]
    }
   ],
   "source": [
    "import multiprocessing\n",
    "import time\n",
    "import sys\n",
    "\n",
    "def daemon():\n",
    "    name = multiprocessing.current_process().name\n",
    "    print(f'[{time.time() - tic:.2f}] Starting: {name}')\n",
    "    time.sleep(5)\n",
    "    print(f'[{time.time() - tic:.2f}] Exiting: {name}')\n",
    "\n",
    "def non_daemon():\n",
    "    name = multiprocessing.current_process().name\n",
    "    print(f'[{time.time() - tic:.2f}] Starting: {name}')\n",
    "    print(f'[{time.time() - tic:.2f}] Exiting: {name}')\n",
    "\n",
    "if __name__ == '__main__':\n",
    "    tic = time.time()\n",
    "    \n",
    "    d = multiprocessing.Process(name='daemon',\n",
    "                                target=daemon)\n",
    "    d.daemon = True  # 守护进程就是不阻挡主程序退出，自己干自己的\n",
    "\n",
    "    n = multiprocessing.Process(name='non-daemon',\n",
    "                                target=non_daemon)\n",
    "    n.daemon = False\n",
    "\n",
    "    d.start()\n",
    "    n.start()\n",
    "\n",
    "    d.join(1)  # 等 d job 完成才繼續，等待n久就不等了\n",
    "    print('d.is_alive():', d.is_alive())\n",
    "    n.join()"
   ]
  },
  {
   "cell_type": "code",
   "execution_count": null,
   "metadata": {
    "collapsed": true
   },
   "outputs": [],
   "source": []
  }
 ],
 "metadata": {
  "kernelspec": {
   "display_name": "Python 3",
   "language": "python",
   "name": "python3"
  },
  "language_info": {
   "codemirror_mode": {
    "name": "ipython",
    "version": 3
   },
   "file_extension": ".py",
   "mimetype": "text/x-python",
   "name": "python",
   "nbconvert_exporter": "python",
   "pygments_lexer": "ipython3",
   "version": "3.6.2"
  }
 },
 "nbformat": 4,
 "nbformat_minor": 2
}
