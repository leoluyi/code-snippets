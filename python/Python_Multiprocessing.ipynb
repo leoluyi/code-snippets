{
 "cells": [
  {
   "cell_type": "code",
   "execution_count": 1,
   "metadata": {
    "collapsed": true
   },
   "outputs": [],
   "source": [
    "import multiprocessing\n",
    "import os\n",
    "import time"
   ]
  },
  {
   "cell_type": "code",
   "execution_count": 2,
   "metadata": {
    "collapsed": true
   },
   "outputs": [],
   "source": [
    "def do_job(name):\n",
    "    whoami(name)\n",
    "    \n",
    "def whoami(name):\n",
    "    print(f'Process {os.getpid()} doing {name}')\n",
    "    \n",
    "def loopy(name):\n",
    "    whoami(name)\n",
    "    start = 1\n",
    "    stop = 100000\n",
    "    for i in range(start, stop):\n",
    "        print(f'Doing {i} of {stop}')\n",
    "        time.sleep(1)"
   ]
  },
  {
   "cell_type": "code",
   "execution_count": 13,
   "metadata": {},
   "outputs": [
    {
     "name": "stdout",
     "output_type": "stream",
     "text": [
      "Process 2919 doing Main program\n",
      "Process 2945 doing loop 0\n",
      "Process 2946 doing loop 1\n",
      "Process 2947 doing loop 2\n",
      "Process 2948 doing loop 3\n"
     ]
    }
   ],
   "source": [
    "if __name__ == '__main__':\n",
    "    whoami('Main program')\n",
    "    for i in range(4):\n",
    "        p = multiprocessing.Process(target=do_job, args=(f'loop {i}',))\n",
    "        p.start()"
   ]
  },
  {
   "cell_type": "code",
   "execution_count": 23,
   "metadata": {},
   "outputs": [
    {
     "name": "stdout",
     "output_type": "stream",
     "text": [
      "Process 2919 doing Main program\n",
      "Process 2970 doing loopy\n",
      "Doing 1 of 100000\n",
      "Backgound processing...\n",
      "Doing 2 of 100000\n",
      "Doing 3 of 100000\n",
      "Doing 4 of 100000\n",
      "Doing 5 of 100000\n",
      "Stopped\n"
     ]
    }
   ],
   "source": [
    "if __name__ == '__main__':\n",
    "    whoami('Main program')\n",
    "    p = multiprocessing.Process(target=loopy, args=(f'loopy',))\n",
    "    p.start()  # 背景作業\n",
    "    print('Backgound processing...')\n",
    "    time.sleep(5)\n",
    "    p.terminate()  # 提前終止\n",
    "    print('Stopped')"
   ]
  },
  {
   "cell_type": "markdown",
   "metadata": {},
   "source": [
    "---"
   ]
  },
  {
   "cell_type": "markdown",
   "metadata": {},
   "source": [
    "## Queue"
   ]
  },
  {
   "cell_type": "code",
   "execution_count": 3,
   "metadata": {
    "collapsed": true
   },
   "outputs": [],
   "source": [
    "import multiprocessing as mp"
   ]
  },
  {
   "cell_type": "code",
   "execution_count": 4,
   "metadata": {
    "collapsed": true
   },
   "outputs": [],
   "source": [
    "def washer(dishes, output):\n",
    "    for dish in dishes:\n",
    "        print(f'[{time.time() - tic:.2f}] Washing dish ({os.getpid()}): {dish}')\n",
    "        time.sleep(1)\n",
    "        output.put(dish)\n",
    "        \n",
    "def dryer(input):\n",
    "    while True:\n",
    "        dish = input.get()\n",
    "        print(f'[{time.time() - tic:.2f}] Drying dish ({os.getpid()}): {dish}')\n",
    "        time.sleep(5)\n",
    "        input.task_done()"
   ]
  },
  {
   "cell_type": "code",
   "execution_count": 5,
   "metadata": {},
   "outputs": [
    {
     "name": "stdout",
     "output_type": "stream",
     "text": [
      "[0.04] Washing dish (3042): apple\n",
      "[1.04] Drying dish (3047): apple\n",
      "[1.04] Washing dish (3042): banana\n",
      "[2.05] Drying dish (3048): banana\n",
      "[2.05] Washing dish (3042): orange\n",
      "[3.05] Washing dish (3042): salad\n",
      "[6.05] Drying dish (3047): orange\n",
      "[7.06] Drying dish (3048): salad\n"
     ]
    }
   ],
   "source": [
    "if __name__ == '__main__':\n",
    "    tic = time.time()\n",
    "    dish_queue = mp.JoinableQueue()\n",
    "    dryer_proc1 = mp.Process(target=dryer, args=(dish_queue,))\n",
    "    dryer_proc2 = mp.Process(target=dryer, args=(dish_queue,))\n",
    "    dryer_proc1.daemon = True\n",
    "    dryer_proc2.daemon = True  # 2 dryers\n",
    "    dryer_proc1.start()\n",
    "    dryer_proc2.start()\n",
    "\n",
    "    dishes = ['apple', 'banana', 'orange', 'salad']\n",
    "    washer(dishes, dish_queue)\n",
    "    dish_queue.join()"
   ]
  },
  {
   "cell_type": "code",
   "execution_count": null,
   "metadata": {
    "collapsed": true
   },
   "outputs": [],
   "source": []
  }
 ],
 "metadata": {
  "kernelspec": {
   "display_name": "Python 3",
   "language": "python",
   "name": "python3"
  },
  "language_info": {
   "codemirror_mode": {
    "name": "ipython",
    "version": 3
   },
   "file_extension": ".py",
   "mimetype": "text/x-python",
   "name": "python",
   "nbconvert_exporter": "python",
   "pygments_lexer": "ipython3",
   "version": "3.6.2"
  }
 },
 "nbformat": 4,
 "nbformat_minor": 2
}
